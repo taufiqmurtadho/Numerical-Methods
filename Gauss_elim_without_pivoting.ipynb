{
 "cells": [
  {
   "cell_type": "code",
   "execution_count": 12,
   "metadata": {},
   "outputs": [
    {
     "name": "stdout",
     "output_type": "stream",
     "text": [
      "[[25, 5, 1], [0.0, -4.800000000000001, -1.56], [0.0, 0.0, 0.7000000000000002]]\n",
      "[106.8, -96.20800000000003, 0.7600000000000477]\n"
     ]
    },
    {
     "data": {
      "text/plain": [
       "[0.29047619047619117, 19.690476190476172, 1.0857142857143536]"
      ]
     },
     "execution_count": 12,
     "metadata": {},
     "output_type": "execute_result"
    }
   ],
   "source": [
    "import numpy as np\n",
    "def gauss_elim(A,b):\n",
    "    n = len(A)-1\n",
    "    #Forward elimination\n",
    "        #Forward elimination\n",
    "    for i in range(n):\n",
    "        for j in range(i+1,n+1):\n",
    "            b[j]=b[j]-b[i]*A[j][i]/A[i][i]\n",
    "            A[j]=np.subtract(A[j],[k*A[j][i]/A[i][i] for k in A[i]]).tolist()\n",
    "    print(A)\n",
    "    print(b)\n",
    "    #Backward substituion\n",
    "    x=[b[n]/A[n][n]]\n",
    "    for i in range(n-1,-1,-1):\n",
    "        term=b[i]\n",
    "        for j in range(i+1,n+1):\n",
    "            term -= A[i][j]*x[n-j]\n",
    "        term = term/A[i][i]\n",
    "        x.append(term)\n",
    "    x.reverse()\n",
    "    return x\n",
    "\n",
    "A = [[25,5,1],[64,8,1],[144,12,1]]\n",
    "b = [106.8, 177.2, 279.2]\n",
    "\n",
    "gauss_elim(A,b)\n",
    "        "
   ]
  },
  {
   "cell_type": "code",
   "execution_count": null,
   "metadata": {},
   "outputs": [],
   "source": []
  }
 ],
 "metadata": {
  "kernelspec": {
   "display_name": "Python 3",
   "language": "python",
   "name": "python3"
  },
  "language_info": {
   "codemirror_mode": {
    "name": "ipython",
    "version": 3
   },
   "file_extension": ".py",
   "mimetype": "text/x-python",
   "name": "python",
   "nbconvert_exporter": "python",
   "pygments_lexer": "ipython3",
   "version": "3.7.3"
  }
 },
 "nbformat": 4,
 "nbformat_minor": 2
}
