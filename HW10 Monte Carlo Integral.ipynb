{
 "cells": [
  {
   "cell_type": "code",
   "execution_count": null,
   "metadata": {},
   "outputs": [],
   "source": [
    "from scipy import random\n",
    "import numpy as np\n",
    "\n",
    "#Defining the functions\n",
    "def f(x):\n",
    "    return np.sqrt(1-x**2)\n",
    "\n",
    "def g(x,y):\n",
    "    return np.sqrt(x**2+y**2)\n",
    "\n",
    "#Defining the random numbers\n",
    "xrand = random.uniform(0,1,10000)\n",
    "yrand = random.uniform(0,1,10000)\n",
    "\n",
    "#MC integration of single variable function\n",
    "def MC_int1(f, xrand):\n",
    "    N = len(xrand)\n",
    "    moment1 = 0 #First moment\n",
    "    moment2 = 0 #Second moment\n",
    "    for i in range(N):\n",
    "        moment1+=f(xrand[i])\n",
    "        moment2+=f(xrand[i])**2\n",
    "    moment1 = moment1/N\n",
    "    moment2 = moment2/N\n",
    "    stdev = np.sqrt(moment2 - moment1**2)/np.sqrt(N)\n",
    "    return [moment1,stdev]\n",
    "\n",
    "#MC integration of two variable functions\n",
    "def MC_int2(f, xrand, yrand):\n",
    "    N = len(xrand)\n",
    "    moment1 = 0 #First moment\n",
    "    moment2 = 0 #Second moment\n",
    "    for i in range(N):\n",
    "        moment1+=f(xrand[i],yrand[i])\n",
    "        moment2+=f(xrand[i],yrand[i])**2\n",
    "    moment1 = moment1/N\n",
    "    moment2 = moment2/N\n",
    "    stdev = np.sqrt(moment2 - moment1**2)/np.sqrt(N)\n",
    "    return [moment1,stdev]\n",
    "\n",
    "[ans1, stdev1] = MC_int1(f,xrand)\n",
    "[ans2, stdev2] = MC_int2(g,xrand,yrand)\n",
    "\n",
    "print(\"(a) The integral is estimated to be \"+str(ans1)+\" with standard deviation \"+str(stdev1))\n",
    "print(\"(b) The integral is estimated to be \"+str(ans2)+\" with standard deviation \"+str(stdev2))"
   ]
  },
  {
   "cell_type": "code",
   "execution_count": null,
   "metadata": {},
   "outputs": [],
   "source": [
    "import matplotlib.pyplot as plt\n",
    "#Drawing the distribution of MC integrals\n",
    "histo1 = []; histo2 = []\n",
    "for i in range(1000):\n",
    "    xrand = random.uniform(0,1,50000)\n",
    "    yrand = random.uniform(0,1,50000)\n",
    "    [ans1,stdev1] = MC_int1(f,xrand)\n",
    "    [ans2,stdev2] = MC_int2(g,xrand,yrand)\n",
    "    histo1.append(ans1)\n",
    "    histo2.append(ans2)\n",
    "plt.figure(figsize=(20,15))\n",
    "plt.hist(histo1, bins = 50, ec = 'black')\n",
    "plt.hist(histo2, bins = 50, ec = 'black')\n",
    "plt.title(\"MC integral distribution\",fontsize = 40)\n",
    "plt.xlabel(\"Result\",fontsize = 30)\n",
    "plt.ylabel(\"Frequency\", fontsize = 30)\n",
    "plt.legend([\"(a)\",\"(b)\"], fontsize=30)\n",
    "plt.xticks(fontsize = 20)\n",
    "plt.yticks(fontsize = 20)\n",
    "plt.savefig('MC_int_dist2')"
   ]
  },
  {
   "cell_type": "code",
   "execution_count": null,
   "metadata": {},
   "outputs": [],
   "source": []
  }
 ],
 "metadata": {
  "kernelspec": {
   "display_name": "Python 3",
   "language": "python",
   "name": "python3"
  },
  "language_info": {
   "codemirror_mode": {
    "name": "ipython",
    "version": 3
   },
   "file_extension": ".py",
   "mimetype": "text/x-python",
   "name": "python",
   "nbconvert_exporter": "python",
   "pygments_lexer": "ipython3",
   "version": "3.7.3"
  }
 },
 "nbformat": 4,
 "nbformat_minor": 2
}
