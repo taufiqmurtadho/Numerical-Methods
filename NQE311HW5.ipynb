{
 "cells": [
  {
   "cell_type": "code",
   "execution_count": null,
   "metadata": {},
   "outputs": [],
   "source": [
    "import numpy as np\n",
    "import math\n",
    "from numpy import linalg as la\n",
    "\n",
    "#Setting up the problem by decomposing A and initiating b\n",
    "B = np.diag([2,2,2,2])\n",
    "B_inverse = np.diag([1/2,1/2,1/2,1/2])\n",
    "U = np.array([[0,1,0,0],\n",
    "              [0,0,1,0],\n",
    "              [0,0,0,1],\n",
    "              [0,0,0,0]])\n",
    "L = np.array([[0,0,0,0],\n",
    "              [1,0,0,0],\n",
    "              [0,1,0,0],\n",
    "              [0,0,1,0]])\n",
    "b = np.array([1,2,3,4])\n",
    "A = np.add(B,-L)\n",
    "A = np.add(A,-U)\n",
    "\n",
    "#Checking the eigenvalues of A\n",
    "(eigvalA,eigvecA) =la.eig(A)\n",
    "print(\"Eigenvalues of A: \"+str(eigvalA))\n",
    "#Computing Jacobi iteration matrix\n",
    "MJ = np.matmul(B_inverse, np.add(L,U))\n",
    "\n",
    "#Optimum relaxation parameter\n",
    "(eigvalMJ,eigvecMJ) =la.eig(MJ)\n",
    "w_opt = 2/(1+ math.sqrt(1-max(eigvalMJ)**2))\n",
    "print(\"w_opt = \"+str(w_opt))\n",
    "\n",
    "#OSR technque\n",
    "#Set up initial guess\n",
    "x0 = [10,10,10,10]\n",
    "\n",
    "#Define OSR function to solve Ax = b iteratively\n",
    "#INPUT: A,b, initial guess x_init, omega w, and the number of iteration k\n",
    "#OUTPUT: x for a given iteration\n",
    "def OSR(A, b, x_init, w, k):\n",
    "    x = x_init\n",
    "    for l in range(k):\n",
    "        for i in range(len(x_init)):\n",
    "            GS = 0 #Gauss-siedel term\n",
    "            for j in range(len(x_init)):\n",
    "                if j!=i:\n",
    "                    GS-=(A[i][j]/A[i][i])*x[j]\n",
    "            GS += b[i]/A[i][i]\n",
    "            x[i] = (1-w)*x[i]+w*GS\n",
    "    return x\n",
    "\n",
    "#Showing iteration history\n",
    "for i in range(7):\n",
    "    print(str(i)+\"-th iteration: x = \" + str(OSR(A,b,x0,w_opt,i)))"
   ]
  },
  {
   "cell_type": "code",
   "execution_count": null,
   "metadata": {},
   "outputs": [],
   "source": []
  }
 ],
 "metadata": {
  "kernelspec": {
   "display_name": "Python 3",
   "language": "python",
   "name": "python3"
  },
  "language_info": {
   "codemirror_mode": {
    "name": "ipython",
    "version": 3
   },
   "file_extension": ".py",
   "mimetype": "text/x-python",
   "name": "python",
   "nbconvert_exporter": "python",
   "pygments_lexer": "ipython3",
   "version": "3.7.3"
  }
 },
 "nbformat": 4,
 "nbformat_minor": 2
}
